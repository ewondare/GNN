{
  "nbformat": 4,
  "nbformat_minor": 0,
  "metadata": {
    "colab": {
      "provenance": [],
      "gpuType": "T4",
      "authorship_tag": "ABX9TyNZkKFDkjLzDzmxOg3vWgPo",
      "include_colab_link": true
    },
    "kernelspec": {
      "name": "python3",
      "display_name": "Python 3"
    },
    "language_info": {
      "name": "python"
    },
    "accelerator": "GPU"
  },
  "cells": [
    {
      "cell_type": "markdown",
      "metadata": {
        "id": "view-in-github",
        "colab_type": "text"
      },
      "source": [
        "<a href=\"https://colab.research.google.com/github/ewondare/GNN/blob/main/GraphSage_on_PPI.ipynb\" target=\"_parent\"><img src=\"https://colab.research.google.com/assets/colab-badge.svg\" alt=\"Open In Colab\"/></a>"
      ]
    },
    {
      "cell_type": "code",
      "execution_count": null,
      "metadata": {
        "colab": {
          "base_uri": "https://localhost:8080/"
        },
        "id": "dn8FWA7e0m4O",
        "outputId": "a07a97f4-c4f9-4dcc-8d29-bccdc4a20b75"
      },
      "outputs": [
        {
          "output_type": "stream",
          "name": "stdout",
          "text": [
            "Requirement already satisfied: torch in /usr/local/lib/python3.11/dist-packages (2.5.1+cu124)\n",
            "Collecting torch-geometric\n",
            "  Downloading torch_geometric-2.6.1-py3-none-any.whl.metadata (63 kB)\n",
            "\u001b[2K     \u001b[90m━━━━━━━━━━━━━━━━━━━━━━━━━━━━━━━━━━━━━━━━\u001b[0m \u001b[32m63.1/63.1 kB\u001b[0m \u001b[31m2.5 MB/s\u001b[0m eta \u001b[36m0:00:00\u001b[0m\n",
            "\u001b[?25hCollecting torch-scatter\n",
            "  Downloading torch_scatter-2.1.2.tar.gz (108 kB)\n",
            "\u001b[2K     \u001b[90m━━━━━━━━━━━━━━━━━━━━━━━━━━━━━━━━━━━━━━━━\u001b[0m \u001b[32m108.0/108.0 kB\u001b[0m \u001b[31m6.8 MB/s\u001b[0m eta \u001b[36m0:00:00\u001b[0m\n",
            "\u001b[?25h  Preparing metadata (setup.py) ... \u001b[?25l\u001b[?25hdone\n",
            "Collecting torch-sparse\n",
            "  Downloading torch_sparse-0.6.18.tar.gz (209 kB)\n",
            "\u001b[2K     \u001b[90m━━━━━━━━━━━━━━━━━━━━━━━━━━━━━━━━━━━━━━━━\u001b[0m \u001b[32m210.0/210.0 kB\u001b[0m \u001b[31m14.8 MB/s\u001b[0m eta \u001b[36m0:00:00\u001b[0m\n",
            "\u001b[?25h  Preparing metadata (setup.py) ... \u001b[?25l\u001b[?25hdone\n",
            "Collecting torch-cluster\n",
            "  Downloading torch_cluster-1.6.3.tar.gz (54 kB)\n",
            "\u001b[2K     \u001b[90m━━━━━━━━━━━━━━━━━━━━━━━━━━━━━━━━━━━━━━━━\u001b[0m \u001b[32m54.5/54.5 kB\u001b[0m \u001b[31m4.5 MB/s\u001b[0m eta \u001b[36m0:00:00\u001b[0m\n",
            "\u001b[?25h  Preparing metadata (setup.py) ... \u001b[?25l\u001b[?25hdone\n",
            "Collecting torch-spline-conv\n",
            "  Downloading torch_spline_conv-1.2.2.tar.gz (25 kB)\n",
            "  Preparing metadata (setup.py) ... \u001b[?25l\u001b[?25hdone\n",
            "Requirement already satisfied: filelock in /usr/local/lib/python3.11/dist-packages (from torch) (3.17.0)\n",
            "Requirement already satisfied: typing-extensions>=4.8.0 in /usr/local/lib/python3.11/dist-packages (from torch) (4.12.2)\n",
            "Requirement already satisfied: networkx in /usr/local/lib/python3.11/dist-packages (from torch) (3.4.2)\n",
            "Requirement already satisfied: jinja2 in /usr/local/lib/python3.11/dist-packages (from torch) (3.1.6)\n",
            "Requirement already satisfied: fsspec in /usr/local/lib/python3.11/dist-packages (from torch) (2024.10.0)\n",
            "Collecting nvidia-cuda-nvrtc-cu12==12.4.127 (from torch)\n",
            "  Downloading nvidia_cuda_nvrtc_cu12-12.4.127-py3-none-manylinux2014_x86_64.whl.metadata (1.5 kB)\n",
            "Collecting nvidia-cuda-runtime-cu12==12.4.127 (from torch)\n",
            "  Downloading nvidia_cuda_runtime_cu12-12.4.127-py3-none-manylinux2014_x86_64.whl.metadata (1.5 kB)\n",
            "Collecting nvidia-cuda-cupti-cu12==12.4.127 (from torch)\n",
            "  Downloading nvidia_cuda_cupti_cu12-12.4.127-py3-none-manylinux2014_x86_64.whl.metadata (1.6 kB)\n",
            "Collecting nvidia-cudnn-cu12==9.1.0.70 (from torch)\n",
            "  Downloading nvidia_cudnn_cu12-9.1.0.70-py3-none-manylinux2014_x86_64.whl.metadata (1.6 kB)\n",
            "Collecting nvidia-cublas-cu12==12.4.5.8 (from torch)\n",
            "  Downloading nvidia_cublas_cu12-12.4.5.8-py3-none-manylinux2014_x86_64.whl.metadata (1.5 kB)\n",
            "Collecting nvidia-cufft-cu12==11.2.1.3 (from torch)\n",
            "  Downloading nvidia_cufft_cu12-11.2.1.3-py3-none-manylinux2014_x86_64.whl.metadata (1.5 kB)\n",
            "Collecting nvidia-curand-cu12==10.3.5.147 (from torch)\n",
            "  Downloading nvidia_curand_cu12-10.3.5.147-py3-none-manylinux2014_x86_64.whl.metadata (1.5 kB)\n",
            "Collecting nvidia-cusolver-cu12==11.6.1.9 (from torch)\n",
            "  Downloading nvidia_cusolver_cu12-11.6.1.9-py3-none-manylinux2014_x86_64.whl.metadata (1.6 kB)\n",
            "Collecting nvidia-cusparse-cu12==12.3.1.170 (from torch)\n",
            "  Downloading nvidia_cusparse_cu12-12.3.1.170-py3-none-manylinux2014_x86_64.whl.metadata (1.6 kB)\n",
            "Requirement already satisfied: nvidia-nccl-cu12==2.21.5 in /usr/local/lib/python3.11/dist-packages (from torch) (2.21.5)\n",
            "Requirement already satisfied: nvidia-nvtx-cu12==12.4.127 in /usr/local/lib/python3.11/dist-packages (from torch) (12.4.127)\n",
            "Collecting nvidia-nvjitlink-cu12==12.4.127 (from torch)\n",
            "  Downloading nvidia_nvjitlink_cu12-12.4.127-py3-none-manylinux2014_x86_64.whl.metadata (1.5 kB)\n",
            "Requirement already satisfied: triton==3.1.0 in /usr/local/lib/python3.11/dist-packages (from torch) (3.1.0)\n",
            "Requirement already satisfied: sympy==1.13.1 in /usr/local/lib/python3.11/dist-packages (from torch) (1.13.1)\n",
            "Requirement already satisfied: mpmath<1.4,>=1.1.0 in /usr/local/lib/python3.11/dist-packages (from sympy==1.13.1->torch) (1.3.0)\n",
            "Requirement already satisfied: aiohttp in /usr/local/lib/python3.11/dist-packages (from torch-geometric) (3.11.13)\n",
            "Requirement already satisfied: numpy in /usr/local/lib/python3.11/dist-packages (from torch-geometric) (1.26.4)\n",
            "Requirement already satisfied: psutil>=5.8.0 in /usr/local/lib/python3.11/dist-packages (from torch-geometric) (5.9.5)\n",
            "Requirement already satisfied: pyparsing in /usr/local/lib/python3.11/dist-packages (from torch-geometric) (3.2.1)\n",
            "Requirement already satisfied: requests in /usr/local/lib/python3.11/dist-packages (from torch-geometric) (2.32.3)\n",
            "Requirement already satisfied: tqdm in /usr/local/lib/python3.11/dist-packages (from torch-geometric) (4.67.1)\n",
            "Requirement already satisfied: scipy in /usr/local/lib/python3.11/dist-packages (from torch-sparse) (1.14.1)\n",
            "Requirement already satisfied: aiohappyeyeballs>=2.3.0 in /usr/local/lib/python3.11/dist-packages (from aiohttp->torch-geometric) (2.5.0)\n",
            "Requirement already satisfied: aiosignal>=1.1.2 in /usr/local/lib/python3.11/dist-packages (from aiohttp->torch-geometric) (1.3.2)\n",
            "Requirement already satisfied: attrs>=17.3.0 in /usr/local/lib/python3.11/dist-packages (from aiohttp->torch-geometric) (25.1.0)\n",
            "Requirement already satisfied: frozenlist>=1.1.1 in /usr/local/lib/python3.11/dist-packages (from aiohttp->torch-geometric) (1.5.0)\n",
            "Requirement already satisfied: multidict<7.0,>=4.5 in /usr/local/lib/python3.11/dist-packages (from aiohttp->torch-geometric) (6.1.0)\n",
            "Requirement already satisfied: propcache>=0.2.0 in /usr/local/lib/python3.11/dist-packages (from aiohttp->torch-geometric) (0.3.0)\n",
            "Requirement already satisfied: yarl<2.0,>=1.17.0 in /usr/local/lib/python3.11/dist-packages (from aiohttp->torch-geometric) (1.18.3)\n",
            "Requirement already satisfied: MarkupSafe>=2.0 in /usr/local/lib/python3.11/dist-packages (from jinja2->torch) (3.0.2)\n",
            "Requirement already satisfied: charset-normalizer<4,>=2 in /usr/local/lib/python3.11/dist-packages (from requests->torch-geometric) (3.4.1)\n",
            "Requirement already satisfied: idna<4,>=2.5 in /usr/local/lib/python3.11/dist-packages (from requests->torch-geometric) (3.10)\n",
            "Requirement already satisfied: urllib3<3,>=1.21.1 in /usr/local/lib/python3.11/dist-packages (from requests->torch-geometric) (2.3.0)\n",
            "Requirement already satisfied: certifi>=2017.4.17 in /usr/local/lib/python3.11/dist-packages (from requests->torch-geometric) (2025.1.31)\n",
            "Downloading nvidia_cublas_cu12-12.4.5.8-py3-none-manylinux2014_x86_64.whl (363.4 MB)\n",
            "\u001b[2K   \u001b[90m━━━━━━━━━━━━━━━━━━━━━━━━━━━━━━━━━━━━━━━━\u001b[0m \u001b[32m363.4/363.4 MB\u001b[0m \u001b[31m4.1 MB/s\u001b[0m eta \u001b[36m0:00:00\u001b[0m\n",
            "\u001b[?25hDownloading nvidia_cuda_cupti_cu12-12.4.127-py3-none-manylinux2014_x86_64.whl (13.8 MB)\n",
            "\u001b[2K   \u001b[90m━━━━━━━━━━━━━━━━━━━━━━━━━━━━━━━━━━━━━━━━\u001b[0m \u001b[32m13.8/13.8 MB\u001b[0m \u001b[31m72.4 MB/s\u001b[0m eta \u001b[36m0:00:00\u001b[0m\n",
            "\u001b[?25hDownloading nvidia_cuda_nvrtc_cu12-12.4.127-py3-none-manylinux2014_x86_64.whl (24.6 MB)\n",
            "\u001b[2K   \u001b[90m━━━━━━━━━━━━━━━━━━━━━━━━━━━━━━━━━━━━━━━━\u001b[0m \u001b[32m24.6/24.6 MB\u001b[0m \u001b[31m55.2 MB/s\u001b[0m eta \u001b[36m0:00:00\u001b[0m\n",
            "\u001b[?25hDownloading nvidia_cuda_runtime_cu12-12.4.127-py3-none-manylinux2014_x86_64.whl (883 kB)\n",
            "\u001b[2K   \u001b[90m━━━━━━━━━━━━━━━━━━━━━━━━━━━━━━━━━━━━━━━━\u001b[0m \u001b[32m883.7/883.7 kB\u001b[0m \u001b[31m40.6 MB/s\u001b[0m eta \u001b[36m0:00:00\u001b[0m\n",
            "\u001b[?25hDownloading nvidia_cudnn_cu12-9.1.0.70-py3-none-manylinux2014_x86_64.whl (664.8 MB)\n",
            "\u001b[2K   \u001b[90m━━━━━━━━━━━━━━━━━━━━━━━━━━━━━━━━━━━━━━━━\u001b[0m \u001b[32m664.8/664.8 MB\u001b[0m \u001b[31m2.7 MB/s\u001b[0m eta \u001b[36m0:00:00\u001b[0m\n",
            "\u001b[?25hDownloading nvidia_cufft_cu12-11.2.1.3-py3-none-manylinux2014_x86_64.whl (211.5 MB)\n",
            "\u001b[2K   \u001b[90m━━━━━━━━━━━━━━━━━━━━━━━━━━━━━━━━━━━━━━━━\u001b[0m \u001b[32m211.5/211.5 MB\u001b[0m \u001b[31m5.2 MB/s\u001b[0m eta \u001b[36m0:00:00\u001b[0m\n",
            "\u001b[?25hDownloading nvidia_curand_cu12-10.3.5.147-py3-none-manylinux2014_x86_64.whl (56.3 MB)\n",
            "\u001b[2K   \u001b[90m━━━━━━━━━━━━━━━━━━━━━━━━━━━━━━━━━━━━━━━━\u001b[0m \u001b[32m56.3/56.3 MB\u001b[0m \u001b[31m12.1 MB/s\u001b[0m eta \u001b[36m0:00:00\u001b[0m\n",
            "\u001b[?25hDownloading nvidia_cusolver_cu12-11.6.1.9-py3-none-manylinux2014_x86_64.whl (127.9 MB)\n",
            "\u001b[2K   \u001b[90m━━━━━━━━━━━━━━━━━━━━━━━━━━━━━━━━━━━━━━━━\u001b[0m \u001b[32m127.9/127.9 MB\u001b[0m \u001b[31m6.9 MB/s\u001b[0m eta \u001b[36m0:00:00\u001b[0m\n",
            "\u001b[?25hDownloading nvidia_cusparse_cu12-12.3.1.170-py3-none-manylinux2014_x86_64.whl (207.5 MB)\n",
            "\u001b[2K   \u001b[90m━━━━━━━━━━━━━━━━━━━━━━━━━━━━━━━━━━━━━━━━\u001b[0m \u001b[32m207.5/207.5 MB\u001b[0m \u001b[31m5.7 MB/s\u001b[0m eta \u001b[36m0:00:00\u001b[0m\n",
            "\u001b[?25hDownloading nvidia_nvjitlink_cu12-12.4.127-py3-none-manylinux2014_x86_64.whl (21.1 MB)\n",
            "\u001b[2K   \u001b[90m━━━━━━━━━━━━━━━━━━━━━━━━━━━━━━━━━━━━━━━━\u001b[0m \u001b[32m21.1/21.1 MB\u001b[0m \u001b[31m74.5 MB/s\u001b[0m eta \u001b[36m0:00:00\u001b[0m\n",
            "\u001b[?25hDownloading torch_geometric-2.6.1-py3-none-any.whl (1.1 MB)\n",
            "\u001b[2K   \u001b[90m━━━━━━━━━━━━━━━━━━━━━━━━━━━━━━━━━━━━━━━━\u001b[0m \u001b[32m1.1/1.1 MB\u001b[0m \u001b[31m62.6 MB/s\u001b[0m eta \u001b[36m0:00:00\u001b[0m\n",
            "\u001b[?25hBuilding wheels for collected packages: torch-scatter, torch-sparse, torch-cluster, torch-spline-conv\n",
            "  Building wheel for torch-scatter (setup.py) ... \u001b[?25l\u001b[?25hdone\n",
            "  Created wheel for torch-scatter: filename=torch_scatter-2.1.2-cp311-cp311-linux_x86_64.whl size=3618865 sha256=cb58dd1070fdd10e3f1893ccadfc6045259f35fbfdbcaf3eba30fea338f4b281\n",
            "  Stored in directory: /root/.cache/pip/wheels/b8/d4/0e/a80af2465354ea7355a2c153b11af2da739cfcf08b6c0b28e2\n",
            "  Building wheel for torch-sparse (setup.py) ... \u001b[?25l\u001b[?25hdone\n",
            "  Created wheel for torch-sparse: filename=torch_sparse-0.6.18-cp311-cp311-linux_x86_64.whl size=2836712 sha256=84de24b2a365eb71fd83f8caa63ad9f00455b207c2f253a13151e12211ffa8ce\n",
            "  Stored in directory: /root/.cache/pip/wheels/75/e2/1e/299c596063839303657c211f587f05591891cc6cf126d94d21\n",
            "  Building wheel for torch-cluster (setup.py) ... \u001b[?25l\u001b[?25hdone\n",
            "  Created wheel for torch-cluster: filename=torch_cluster-1.6.3-cp311-cp311-linux_x86_64.whl size=2065995 sha256=e1134852434a675ec03c8cf038547fec912cfb7231779c204fe7a229d742c734\n",
            "  Stored in directory: /root/.cache/pip/wheels/ef/de/7d/a4211822af99147b93800e9e204f0be21294e3c0b95b3b861a\n",
            "  Building wheel for torch-spline-conv (setup.py) ... \u001b[?25l\u001b[?25hdone\n",
            "  Created wheel for torch-spline-conv: filename=torch_spline_conv-1.2.2-cp311-cp311-linux_x86_64.whl size=567363 sha256=667fc84d6fe8bc7ca5fa650de6aa2e4ae22cc0456983abd46ba8a6689dae6430\n",
            "  Stored in directory: /root/.cache/pip/wheels/25/16/8a/a98b0173c4fbbc7aa1c4929b46d2eb08d1475c5c7b54e289b6\n",
            "Successfully built torch-scatter torch-sparse torch-cluster torch-spline-conv\n",
            "Installing collected packages: torch-spline-conv, torch-scatter, nvidia-nvjitlink-cu12, nvidia-curand-cu12, nvidia-cufft-cu12, nvidia-cuda-runtime-cu12, nvidia-cuda-nvrtc-cu12, nvidia-cuda-cupti-cu12, nvidia-cublas-cu12, torch-sparse, torch-cluster, nvidia-cusparse-cu12, nvidia-cudnn-cu12, torch-geometric, nvidia-cusolver-cu12\n",
            "  Attempting uninstall: nvidia-nvjitlink-cu12\n",
            "    Found existing installation: nvidia-nvjitlink-cu12 12.5.82\n",
            "    Uninstalling nvidia-nvjitlink-cu12-12.5.82:\n",
            "      Successfully uninstalled nvidia-nvjitlink-cu12-12.5.82\n",
            "  Attempting uninstall: nvidia-curand-cu12\n",
            "    Found existing installation: nvidia-curand-cu12 10.3.6.82\n",
            "    Uninstalling nvidia-curand-cu12-10.3.6.82:\n",
            "      Successfully uninstalled nvidia-curand-cu12-10.3.6.82\n",
            "  Attempting uninstall: nvidia-cufft-cu12\n",
            "    Found existing installation: nvidia-cufft-cu12 11.2.3.61\n",
            "    Uninstalling nvidia-cufft-cu12-11.2.3.61:\n",
            "      Successfully uninstalled nvidia-cufft-cu12-11.2.3.61\n",
            "  Attempting uninstall: nvidia-cuda-runtime-cu12\n",
            "    Found existing installation: nvidia-cuda-runtime-cu12 12.5.82\n",
            "    Uninstalling nvidia-cuda-runtime-cu12-12.5.82:\n",
            "      Successfully uninstalled nvidia-cuda-runtime-cu12-12.5.82\n",
            "  Attempting uninstall: nvidia-cuda-nvrtc-cu12\n",
            "    Found existing installation: nvidia-cuda-nvrtc-cu12 12.5.82\n",
            "    Uninstalling nvidia-cuda-nvrtc-cu12-12.5.82:\n",
            "      Successfully uninstalled nvidia-cuda-nvrtc-cu12-12.5.82\n",
            "  Attempting uninstall: nvidia-cuda-cupti-cu12\n",
            "    Found existing installation: nvidia-cuda-cupti-cu12 12.5.82\n",
            "    Uninstalling nvidia-cuda-cupti-cu12-12.5.82:\n",
            "      Successfully uninstalled nvidia-cuda-cupti-cu12-12.5.82\n",
            "  Attempting uninstall: nvidia-cublas-cu12\n",
            "    Found existing installation: nvidia-cublas-cu12 12.5.3.2\n",
            "    Uninstalling nvidia-cublas-cu12-12.5.3.2:\n",
            "      Successfully uninstalled nvidia-cublas-cu12-12.5.3.2\n",
            "  Attempting uninstall: nvidia-cusparse-cu12\n",
            "    Found existing installation: nvidia-cusparse-cu12 12.5.1.3\n",
            "    Uninstalling nvidia-cusparse-cu12-12.5.1.3:\n",
            "      Successfully uninstalled nvidia-cusparse-cu12-12.5.1.3\n",
            "  Attempting uninstall: nvidia-cudnn-cu12\n",
            "    Found existing installation: nvidia-cudnn-cu12 9.3.0.75\n",
            "    Uninstalling nvidia-cudnn-cu12-9.3.0.75:\n",
            "      Successfully uninstalled nvidia-cudnn-cu12-9.3.0.75\n",
            "  Attempting uninstall: nvidia-cusolver-cu12\n",
            "    Found existing installation: nvidia-cusolver-cu12 11.6.3.83\n",
            "    Uninstalling nvidia-cusolver-cu12-11.6.3.83:\n",
            "      Successfully uninstalled nvidia-cusolver-cu12-11.6.3.83\n",
            "Successfully installed nvidia-cublas-cu12-12.4.5.8 nvidia-cuda-cupti-cu12-12.4.127 nvidia-cuda-nvrtc-cu12-12.4.127 nvidia-cuda-runtime-cu12-12.4.127 nvidia-cudnn-cu12-9.1.0.70 nvidia-cufft-cu12-11.2.1.3 nvidia-curand-cu12-10.3.5.147 nvidia-cusolver-cu12-11.6.1.9 nvidia-cusparse-cu12-12.3.1.170 nvidia-nvjitlink-cu12-12.4.127 torch-cluster-1.6.3 torch-geometric-2.6.1 torch-scatter-2.1.2 torch-sparse-0.6.18 torch-spline-conv-1.2.2\n"
          ]
        }
      ],
      "source": [
        "!pip install torch torch-geometric torch-scatter torch-sparse torch-cluster torch-spline-conv"
      ]
    },
    {
      "cell_type": "code",
      "source": [
        "!pip install torch"
      ],
      "metadata": {
        "id": "b-SWEaTI8zz0"
      },
      "execution_count": null,
      "outputs": []
    },
    {
      "cell_type": "code",
      "source": [
        "!pip install torch-geometric"
      ],
      "metadata": {
        "id": "hTM9BjT581oW"
      },
      "execution_count": null,
      "outputs": []
    },
    {
      "cell_type": "code",
      "source": [
        "!pip install torch-scatter"
      ],
      "metadata": {
        "id": "RplP9NJT83el"
      },
      "execution_count": null,
      "outputs": []
    },
    {
      "cell_type": "code",
      "source": [
        "!pip install torch-sparse"
      ],
      "metadata": {
        "id": "oknFgzaQ8-VZ"
      },
      "execution_count": null,
      "outputs": []
    },
    {
      "cell_type": "code",
      "source": [
        "!pip isntall torch-cluster"
      ],
      "metadata": {
        "id": "AzL0ikAj9DCv"
      },
      "execution_count": null,
      "outputs": []
    },
    {
      "cell_type": "code",
      "source": [
        "!pip install torch-spline-conv"
      ],
      "metadata": {
        "id": "1QEm2vDp9GaJ"
      },
      "execution_count": null,
      "outputs": []
    },
    {
      "cell_type": "code",
      "source": [
        "import torch\n",
        "import torch.nn.functional as F\n",
        "from torch_geometric.data import DataLoader\n",
        "from torch_geometric.nn import SAGEConv\n",
        "from torch_geometric.datasets import PPI\n",
        "from sklearn.metrics import f1_score"
      ],
      "metadata": {
        "id": "38ZDuDHk095d",
        "colab": {
          "base_uri": "https://localhost:8080/",
          "height": 399
        },
        "outputId": "fa3300ec-c967-43b0-81ed-c19cc90e7756"
      },
      "execution_count": null,
      "outputs": [
        {
          "output_type": "error",
          "ename": "ModuleNotFoundError",
          "evalue": "No module named 'torch_geometric'",
          "traceback": [
            "\u001b[0;31m---------------------------------------------------------------------------\u001b[0m",
            "\u001b[0;31mModuleNotFoundError\u001b[0m                       Traceback (most recent call last)",
            "\u001b[0;32m<ipython-input-1-faa08cda0c58>\u001b[0m in \u001b[0;36m<cell line: 0>\u001b[0;34m()\u001b[0m\n\u001b[1;32m      1\u001b[0m \u001b[0;32mimport\u001b[0m \u001b[0mtorch\u001b[0m\u001b[0;34m\u001b[0m\u001b[0;34m\u001b[0m\u001b[0m\n\u001b[1;32m      2\u001b[0m \u001b[0;32mimport\u001b[0m \u001b[0mtorch\u001b[0m\u001b[0;34m.\u001b[0m\u001b[0mnn\u001b[0m\u001b[0;34m.\u001b[0m\u001b[0mfunctional\u001b[0m \u001b[0;32mas\u001b[0m \u001b[0mF\u001b[0m\u001b[0;34m\u001b[0m\u001b[0;34m\u001b[0m\u001b[0m\n\u001b[0;32m----> 3\u001b[0;31m \u001b[0;32mfrom\u001b[0m \u001b[0mtorch_geometric\u001b[0m\u001b[0;34m.\u001b[0m\u001b[0mdata\u001b[0m \u001b[0;32mimport\u001b[0m \u001b[0mDataLoader\u001b[0m\u001b[0;34m\u001b[0m\u001b[0;34m\u001b[0m\u001b[0m\n\u001b[0m\u001b[1;32m      4\u001b[0m \u001b[0;32mfrom\u001b[0m \u001b[0mtorch_geometric\u001b[0m\u001b[0;34m.\u001b[0m\u001b[0mnn\u001b[0m \u001b[0;32mimport\u001b[0m \u001b[0mSAGEConv\u001b[0m\u001b[0;34m\u001b[0m\u001b[0;34m\u001b[0m\u001b[0m\n\u001b[1;32m      5\u001b[0m \u001b[0;32mfrom\u001b[0m \u001b[0mtorch_geometric\u001b[0m\u001b[0;34m.\u001b[0m\u001b[0mdatasets\u001b[0m \u001b[0;32mimport\u001b[0m \u001b[0mPPI\u001b[0m\u001b[0;34m\u001b[0m\u001b[0;34m\u001b[0m\u001b[0m\n",
            "\u001b[0;31mModuleNotFoundError\u001b[0m: No module named 'torch_geometric'",
            "",
            "\u001b[0;31m---------------------------------------------------------------------------\u001b[0;32m\nNOTE: If your import is failing due to a missing package, you can\nmanually install dependencies using either !pip or !apt.\n\nTo view examples of installing some common dependencies, click the\n\"Open Examples\" button below.\n\u001b[0;31m---------------------------------------------------------------------------\u001b[0m\n"
          ],
          "errorDetails": {
            "actions": [
              {
                "action": "open_url",
                "actionText": "Open Examples",
                "url": "/notebooks/snippets/importing_libraries.ipynb"
              }
            ]
          }
        }
      ]
    },
    {
      "cell_type": "markdown",
      "source": [
        "## Labels in the PPI Dataset\n",
        "\n",
        "### 1. Multi-Label Classification\n",
        "The PPI dataset is a **multi-label classification** problem. This means:\n",
        "- Each **node** (protein) can have **multiple labels**.\n",
        "- Each label represents a **protein function** (e.g., enzymatic activity, binding).\n",
        "- The labels are **binary**: For each label, a protein either has it ($1$) or does not have it ($0$).\n",
        "\n",
        "### 2. Label Representation\n",
        "For a graph with $N$ nodes and $C$ possible labels:\n",
        "- The labels are represented as a **binary matrix** $\\mathbf{Y} \\in \\{0, 1\\}^{N \\times C}$.\n",
        "- Each row $\\mathbf{y}_u \\in \\{0, 1\\}^C$ corresponds to the labels of node $u$.\n",
        "- For example, if $C = 5$, a node with labels `[1, 0, 1, 0, 1]` has the 1st, 3rd, and 5th functions.\n",
        "\n",
        "### 3. Example\n",
        "Suppose we have 3 nodes and 4 possible labels:\n",
        "$$\n",
        "\\mathbf{Y} = \\begin{bmatrix}\n",
        "1 & 0 & 1 & 0 \\\\\n",
        "0 & 1 & 0 & 1 \\\\\n",
        "1 & 1 & 0 & 0\n",
        "\\end{bmatrix}\n",
        "$$\n",
        "- Node 1 has labels 1 and 3.\n",
        "- Node 2 has labels 2 and 4.\n",
        "- Node 3 has labels 1 and 2.\n"
      ],
      "metadata": {
        "id": "GIb1EWkiVFhe"
      }
    },
    {
      "cell_type": "code",
      "source": [
        "# Load the PPI dataset\n",
        "train_dataset = PPI(root='data/PPI', split='train')\n",
        "val_dataset = PPI(root='data/PPI', split='val')\n",
        "test_dataset = PPI(root='data/PPI', split='test')\n",
        "\n",
        "# Create data loaders\n",
        "train_loader = DataLoader(train_dataset, batch_size=1, shuffle=True)\n",
        "val_loader = DataLoader(val_dataset, batch_size=1, shuffle=False)\n",
        "test_loader = DataLoader(test_dataset, batch_size=1, shuffle=False)"
      ],
      "metadata": {
        "id": "v4opEuRW1EYz",
        "colab": {
          "base_uri": "https://localhost:8080/"
        },
        "outputId": "c31dc8e4-2d36-48d8-8c3b-e729ec4bb83a"
      },
      "execution_count": null,
      "outputs": [
        {
          "output_type": "stream",
          "name": "stderr",
          "text": [
            "Downloading https://data.dgl.ai/dataset/ppi.zip\n",
            "Extracting data/PPI/ppi.zip\n",
            "Processing...\n",
            "/usr/local/lib/python3.11/dist-packages/networkx/readwrite/json_graph/node_link.py:287: FutureWarning: \n",
            "The default value will be changed to `edges=\"edges\" in NetworkX 3.6.\n",
            "\n",
            "To make this warning go away, explicitly set the edges kwarg, e.g.:\n",
            "\n",
            "  nx.node_link_graph(data, edges=\"links\") to preserve current behavior, or\n",
            "  nx.node_link_graph(data, edges=\"edges\") for forward compatibility.\n",
            "  warnings.warn(\n",
            "Done!\n",
            "/usr/local/lib/python3.11/dist-packages/torch_geometric/deprecation.py:26: UserWarning: 'data.DataLoader' is deprecated, use 'loader.DataLoader' instead\n",
            "  warnings.warn(out)\n"
          ]
        }
      ]
    },
    {
      "cell_type": "code",
      "source": [
        "# Calculate degrees\n",
        "degrees = [G.degree(node) for node in G.nodes()]\n",
        "\n",
        "# Plot degree distribution\n",
        "plt.figure(figsize=(8, 6))\n",
        "plt.hist(degrees, bins=30, color='blue', alpha=0.7)\n",
        "plt.title(\"Degree Distribution\")\n",
        "plt.xlabel(\"Degree\")\n",
        "plt.ylabel(\"Frequency\")\n",
        "plt.show()"
      ],
      "metadata": {
        "colab": {
          "base_uri": "https://localhost:8080/",
          "height": 564
        },
        "id": "zGrytTrXOdZ6",
        "outputId": "e2aae050-a559-40ff-a93d-62547d4611ed"
      },
      "execution_count": null,
      "outputs": [
        {
          "output_type": "display_data",
          "data": {
            "text/plain": [
              "<Figure size 800x600 with 1 Axes>"
            ],
            "image/png": "[encoded data removed]"
          },
          "metadata": {}
        }
      ]
    },
    {
      "cell_type": "code",
      "source": [
        "\n",
        "node_labels = data.y.numpy()\n",
        "\n",
        "plt.figure(figsize=(8, 6))\n",
        "plt.hist(node_labels.sum(axis=1), bins=30, color='purple', alpha=0.7)\n",
        "plt.title(\"Node Label Distribution\")\n",
        "plt.xlabel(\"Number of Labels\")\n",
        "plt.ylabel(\"Frequency\")\n",
        "plt.show()"
      ],
      "metadata": {
        "colab": {
          "base_uri": "https://localhost:8080/",
          "height": 564
        },
        "id": "K3Dp9NwxOxNj",
        "outputId": "5c7742a5-3ecf-4a7e-f640-8e5d34035806"
      },
      "execution_count": null,
      "outputs": [
        {
          "output_type": "display_data",
          "data": {
            "text/plain": [
              "<Figure size 800x600 with 1 Axes>"
            ],
            "image/png": "[encoded data removed]"
          },
          "metadata": {}
        }
      ]
    },
    {
      "cell_type": "markdown",
      "source": [
        "\n",
        "---\n",
        "\n",
        "## GraphSAGE Model for Multi-Label Classification\n",
        "\n",
        "### 1. Model Output\n",
        "The GraphSAGE model predicts a **probability** for each label. For a node $u$, the model outputs:\n",
        "$$\n",
        "\\hat{\\mathbf{y}}_u = [\\hat{y}_{u1}, \\hat{y}_{u2}, \\dots, \\hat{y}_{uC}],\n",
        "$$\n",
        "where $\\hat{y}_{ui} \\in [0, 1]$ is the predicted probability that node $u$ has label $i$.\n",
        "\n",
        "### 2. Activation Function\n",
        "The model uses a **sigmoid activation function** to ensure the output probabilities are between 0 and 1:\n",
        "$$\n",
        "\\hat{y}_{ui} = \\sigma(\\mathbf{z}_u^\\top \\mathbf{w}_i),\n",
        "$$\n",
        "where:\n",
        "- $\\mathbf{z}_u$ is the embedding of node $u$.\n",
        "- $\\mathbf{w}_i$ is the weight vector for label $i$.\n",
        "- $\\sigma(x) = \\frac{1}{1 + e^{-x}}$ is the sigmoid function.\n",
        "\n",
        "### 3. Loss Function\n",
        "The model is trained using **binary cross-entropy loss** because each label is treated as an independent binary classification task. For a single node $u$, the loss is:\n",
        "$$\n",
        "\\text{BCE}(\\mathbf{y}_u, \\hat{\\mathbf{y}}_u) = -\\frac{1}{C} \\sum_{i=1}^C \\left[ y_{ui} \\log(\\hat{y}_{ui}) + (1 - y_{ui}) \\log(1 - \\hat{y}_{ui}) \\right].\n",
        "$$\n",
        "For the entire dataset, the loss is averaged over all nodes:\n",
        "$$\n",
        "\\mathcal{L} = \\frac{1}{N} \\sum_{u=1}^N \\text{BCE}(\\mathbf{y}_u, \\hat{\\mathbf{y}}_u).\n",
        "$$\n"
      ],
      "metadata": {
        "id": "F6eRayawW3Nd"
      }
    },
    {
      "cell_type": "code",
      "source": [
        "class GraphSAGE(torch.nn.Module):\n",
        "    def __init__(self, in_channels, hidden_channels, out_channels, num_layers):\n",
        "        super(GraphSAGE, self).__init__()\n",
        "        self.num_layers = num_layers\n",
        "\n",
        "        # Create GraphSAGE layers\n",
        "        self.convs = torch.nn.ModuleList()\n",
        "        self.convs.append(SAGEConv(in_channels, hidden_channels))\n",
        "        for _ in range(num_layers - 2):\n",
        "            self.convs.append(SAGEConv(hidden_channels, hidden_channels))\n",
        "        self.convs.append(SAGEConv(hidden_channels, out_channels))\n",
        "\n",
        "    def forward(self, x, edge_index):\n",
        "        for i, conv in enumerate(self.convs):\n",
        "            x = conv(x, edge_index)\n",
        "            if i != self.num_layers - 1:  # Apply ReLU except for the last layer\n",
        "                x = F.relu(x)\n",
        "        return x"
      ],
      "metadata": {
        "id": "_gEH363P1JSS"
      },
      "execution_count": null,
      "outputs": []
    },
    {
      "cell_type": "markdown",
      "source": [
        "The SAGEConv layer implements the following steps:\n",
        "\n",
        "- Aggregation: Aggregates the feature vectors of the neighbors (using mean aggregation by default).\n",
        "\n",
        "- Transformation: Applies a learnable weight matrix to the aggregated features and combines them with the node's own features.\n",
        "\n",
        "(after each layer except for the last one, a nonlinearity is also added (ReLU))"
      ],
      "metadata": {
        "id": "IDL2IfKkNWr8"
      }
    },
    {
      "cell_type": "code",
      "source": [
        "# Define model hyperparameters\n",
        "in_channels = train_dataset.num_features\n",
        "hidden_channels = 256\n",
        "out_channels = train_dataset.num_classes\n",
        "num_layers = 3 # Number of Hops (K in the paper)\n",
        "\n",
        "\n",
        "model = GraphSAGE(in_channels, hidden_channels, out_channels, num_layers)\n",
        "optimizer = torch.optim.Adam(model.parameters(), lr=0.01)"
      ],
      "metadata": {
        "id": "zLpvS9sK1RaQ"
      },
      "execution_count": null,
      "outputs": []
    },
    {
      "cell_type": "markdown",
      "source": [
        "\n",
        "---\n",
        "\n",
        "## Training and Evaluation\n",
        "\n",
        "### 1. Training\n",
        "During training:\n",
        "- The model predicts probabilities $\\hat{\\mathbf{y}}_u$ for all nodes.\n",
        "- The binary cross-entropy loss is computed by comparing the predictions to the true labels $\\mathbf{y}_u$.\n",
        "- The model parameters are updated using gradient descent.\n",
        "\n",
        "### 2. Evaluation\n",
        "During evaluation:\n",
        "- The model predicts probabilities $\\hat{\\mathbf{y}}_u$.\n",
        "- These probabilities are thresholded at 0.5 to obtain binary predictions:\n",
        "  $$\n",
        "  \\tilde{y}_{ui} = \\begin{cases}\n",
        "  1 & \\text{if } \\hat{y}_{ui} \\geq 0.5, \\\\\n",
        "  0 & \\text{otherwise}.\n",
        "  \\end{cases}\n",
        "  $$\n",
        "- The predictions are compared to the true labels using metrics like **F1 score**:\n",
        "  $$\n",
        "  \\text{F1} = \\frac{2 \\cdot \\text{precision} \\cdot \\text{recall}}{\\text{precision} + \\text{recall}}.\n",
        "  $$\n",
        "\n"
      ],
      "metadata": {
        "id": "RtHTkjGEWx04"
      }
    },
    {
      "cell_type": "code",
      "source": [
        "def train():\n",
        "    model.train()\n",
        "    total_loss = 0\n",
        "\n",
        "    for data in train_loader:\n",
        "        optimizer.zero_grad()\n",
        "        out = model(data.x, data.edge_index)\n",
        "        loss = F.binary_cross_entropy_with_logits(out, data.y)\n",
        "        loss.backward()\n",
        "        optimizer.step()\n",
        "        total_loss += loss.item()\n",
        "\n",
        "    return total_loss / len(train_loader)"
      ],
      "metadata": {
        "id": "znRcmFCn1Z5q"
      },
      "execution_count": null,
      "outputs": []
    },
    {
      "cell_type": "code",
      "source": [
        "def evaluate(loader):\n",
        "    model.eval()\n",
        "    preds, labels = [], []\n",
        "\n",
        "    with torch.no_grad():\n",
        "        for data in loader:\n",
        "            out = model(data.x, data.edge_index)\n",
        "            pred = (out > 0).float()  # Convert logits to binary predictions\n",
        "            preds.append(pred)\n",
        "            labels.append(data.y)\n",
        "\n",
        "    preds = torch.cat(preds, dim=0)\n",
        "    labels = torch.cat(labels, dim=0)\n",
        "    return f1_score(labels.cpu().numpy(), preds.cpu().numpy(), average='micro')"
      ],
      "metadata": {
        "id": "tM334WWGLd7_"
      },
      "execution_count": null,
      "outputs": []
    },
    {
      "cell_type": "code",
      "source": [
        "\n",
        "for epoch in range(1, 101):\n",
        "    loss = train()\n",
        "    val_f1 = evaluate(val_loader)\n",
        "    print(f'Epoch: {epoch:03d}, Loss: {loss:.4f}, Val F1: {val_f1:.4f}')\n",
        "\n",
        "test_f1 = evaluate(test_loader)\n",
        "print(f'Test F1: {test_f1:.4f}')"
      ],
      "metadata": {
        "id": "_6CdMH4L18x6",
        "colab": {
          "base_uri": "https://localhost:8080/"
        },
        "outputId": "78b3425f-cf74-40e2-bd24-3058ba3ae9f7"
      },
      "execution_count": null,
      "outputs": [
        {
          "output_type": "stream",
          "name": "stdout",
          "text": [
            "Epoch: 001, Loss: 0.5493, Val F1: 0.3960\n",
            "Epoch: 002, Loss: 0.5308, Val F1: 0.4810\n",
            "Epoch: 003, Loss: 0.4990, Val F1: 0.5627\n",
            "Epoch: 004, Loss: 0.4672, Val F1: 0.6063\n",
            "Epoch: 005, Loss: 0.4445, Val F1: 0.6125\n",
            "Epoch: 006, Loss: 0.4237, Val F1: 0.5910\n",
            "Epoch: 007, Loss: 0.4087, Val F1: 0.6258\n",
            "Epoch: 008, Loss: 0.3931, Val F1: 0.6128\n",
            "Epoch: 009, Loss: 0.3812, Val F1: 0.6676\n",
            "Epoch: 010, Loss: 0.3665, Val F1: 0.6721\n",
            "Epoch: 011, Loss: 0.3566, Val F1: 0.6860\n",
            "Epoch: 012, Loss: 0.3472, Val F1: 0.7082\n",
            "Epoch: 013, Loss: 0.3401, Val F1: 0.7009\n",
            "Epoch: 014, Loss: 0.3437, Val F1: 0.6893\n",
            "Epoch: 015, Loss: 0.3255, Val F1: 0.7078\n",
            "Epoch: 016, Loss: 0.3242, Val F1: 0.7157\n",
            "Epoch: 017, Loss: 0.3178, Val F1: 0.7240\n",
            "Epoch: 018, Loss: 0.3108, Val F1: 0.7246\n",
            "Epoch: 019, Loss: 0.3085, Val F1: 0.7179\n",
            "Epoch: 020, Loss: 0.3132, Val F1: 0.7333\n",
            "Epoch: 021, Loss: 0.3049, Val F1: 0.7320\n",
            "Epoch: 022, Loss: 0.2936, Val F1: 0.7391\n",
            "Epoch: 023, Loss: 0.2885, Val F1: 0.7494\n",
            "Epoch: 024, Loss: 0.2840, Val F1: 0.7437\n",
            "Epoch: 025, Loss: 0.2802, Val F1: 0.7637\n",
            "Epoch: 026, Loss: 0.2767, Val F1: 0.7566\n",
            "Epoch: 027, Loss: 0.2760, Val F1: 0.7653\n",
            "Epoch: 028, Loss: 0.2777, Val F1: 0.7686\n",
            "Epoch: 029, Loss: 0.2739, Val F1: 0.7607\n",
            "Epoch: 030, Loss: 0.2668, Val F1: 0.7728\n",
            "Epoch: 031, Loss: 0.2612, Val F1: 0.7737\n",
            "Epoch: 032, Loss: 0.2699, Val F1: 0.7695\n",
            "Epoch: 033, Loss: 0.2597, Val F1: 0.7749\n",
            "Epoch: 034, Loss: 0.2545, Val F1: 0.7741\n",
            "Epoch: 035, Loss: 0.2529, Val F1: 0.7796\n",
            "Epoch: 036, Loss: 0.2504, Val F1: 0.7808\n",
            "Epoch: 037, Loss: 0.2493, Val F1: 0.7832\n",
            "Epoch: 038, Loss: 0.2536, Val F1: 0.7707\n",
            "Epoch: 039, Loss: 0.2493, Val F1: 0.7775\n",
            "Epoch: 040, Loss: 0.2436, Val F1: 0.7858\n",
            "Epoch: 041, Loss: 0.2440, Val F1: 0.7887\n",
            "Epoch: 042, Loss: 0.2397, Val F1: 0.7814\n",
            "Epoch: 043, Loss: 0.2474, Val F1: 0.7832\n",
            "Epoch: 044, Loss: 0.2443, Val F1: 0.7897\n",
            "Epoch: 045, Loss: 0.2386, Val F1: 0.7919\n",
            "Epoch: 046, Loss: 0.2354, Val F1: 0.7908\n",
            "Epoch: 047, Loss: 0.2349, Val F1: 0.7951\n",
            "Epoch: 048, Loss: 0.2341, Val F1: 0.7919\n",
            "Epoch: 049, Loss: 0.2316, Val F1: 0.7961\n",
            "Epoch: 050, Loss: 0.2329, Val F1: 0.7883\n",
            "Epoch: 051, Loss: 0.2391, Val F1: 0.7773\n",
            "Epoch: 052, Loss: 0.2641, Val F1: 0.7899\n",
            "Epoch: 053, Loss: 0.2391, Val F1: 0.7944\n",
            "Epoch: 054, Loss: 0.2326, Val F1: 0.7972\n",
            "Epoch: 055, Loss: 0.2301, Val F1: 0.8003\n",
            "Epoch: 056, Loss: 0.2234, Val F1: 0.7983\n",
            "Epoch: 057, Loss: 0.2239, Val F1: 0.8027\n",
            "Epoch: 058, Loss: 0.2217, Val F1: 0.8029\n",
            "Epoch: 059, Loss: 0.2214, Val F1: 0.8055\n",
            "Epoch: 060, Loss: 0.2187, Val F1: 0.8027\n",
            "Epoch: 061, Loss: 0.2230, Val F1: 0.7953\n",
            "Epoch: 062, Loss: 0.2226, Val F1: 0.8022\n",
            "Epoch: 063, Loss: 0.2267, Val F1: 0.8062\n",
            "Epoch: 064, Loss: 0.2269, Val F1: 0.7879\n",
            "Epoch: 065, Loss: 0.2201, Val F1: 0.7895\n",
            "Epoch: 066, Loss: 0.2207, Val F1: 0.8066\n",
            "Epoch: 067, Loss: 0.2188, Val F1: 0.8054\n",
            "Epoch: 068, Loss: 0.2174, Val F1: 0.8073\n",
            "Epoch: 069, Loss: 0.2204, Val F1: 0.8028\n",
            "Epoch: 070, Loss: 0.2162, Val F1: 0.8059\n",
            "Epoch: 071, Loss: 0.2181, Val F1: 0.8103\n",
            "Epoch: 072, Loss: 0.2154, Val F1: 0.8091\n",
            "Epoch: 073, Loss: 0.2124, Val F1: 0.8102\n",
            "Epoch: 074, Loss: 0.2146, Val F1: 0.8108\n",
            "Epoch: 075, Loss: 0.2186, Val F1: 0.8085\n",
            "Epoch: 076, Loss: 0.2162, Val F1: 0.8137\n",
            "Epoch: 077, Loss: 0.2130, Val F1: 0.8098\n",
            "Epoch: 078, Loss: 0.2120, Val F1: 0.8137\n",
            "Epoch: 079, Loss: 0.2095, Val F1: 0.8135\n",
            "Epoch: 080, Loss: 0.2078, Val F1: 0.8128\n",
            "Epoch: 081, Loss: 0.2127, Val F1: 0.8090\n",
            "Epoch: 082, Loss: 0.2207, Val F1: 0.8050\n",
            "Epoch: 083, Loss: 0.2129, Val F1: 0.8121\n",
            "Epoch: 084, Loss: 0.2105, Val F1: 0.8057\n",
            "Epoch: 085, Loss: 0.2230, Val F1: 0.7982\n",
            "Epoch: 086, Loss: 0.2323, Val F1: 0.8089\n",
            "Epoch: 087, Loss: 0.2125, Val F1: 0.8067\n",
            "Epoch: 088, Loss: 0.2094, Val F1: 0.8143\n",
            "Epoch: 089, Loss: 0.2062, Val F1: 0.8161\n",
            "Epoch: 090, Loss: 0.2046, Val F1: 0.8167\n",
            "Epoch: 091, Loss: 0.2036, Val F1: 0.8108\n",
            "Epoch: 092, Loss: 0.2051, Val F1: 0.8181\n",
            "Epoch: 093, Loss: 0.2024, Val F1: 0.8120\n",
            "Epoch: 094, Loss: 0.2047, Val F1: 0.8162\n",
            "Epoch: 095, Loss: 0.2027, Val F1: 0.8199\n",
            "Epoch: 096, Loss: 0.2016, Val F1: 0.8172\n",
            "Epoch: 097, Loss: 0.2040, Val F1: 0.8140\n",
            "Epoch: 098, Loss: 0.2060, Val F1: 0.8168\n",
            "Epoch: 099, Loss: 0.2121, Val F1: 0.8093\n",
            "Epoch: 100, Loss: 0.2058, Val F1: 0.8129\n",
            "Test F1: 0.8358\n"
          ]
        }
      ]
    }
  ]
}